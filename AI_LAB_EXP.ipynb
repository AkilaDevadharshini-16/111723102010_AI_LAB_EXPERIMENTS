{
  "cells": [
    {
      "cell_type": "code",
      "execution_count": null,
      "metadata": {
        "colab": {
          "base_uri": "https://localhost:8080/"
        },
        "id": "UiQckKNVtifl",
        "outputId": "eed3a18e-80f6-408e-ff91-0ce2bf1a1610"
      },
      "outputs": [
        {
          "name": "stdout",
          "output_type": "stream",
          "text": [
            "4\n"
          ]
        }
      ],
      "source": [
        "class Solution:\n",
        "    def solve(self, board):\n",
        "        dict = {}\n",
        "        flatten = []\n",
        "\n",
        "        for i in range(len(board)):\n",
        "            flatten += board[i]\n",
        "\n",
        "        flatten = tuple(flatten)\n",
        "        dict[flatten] = 0\n",
        "\n",
        "        if flatten == (0, 1, 2, 3, 4, 5, 6, 7, 8):\n",
        "            return 0\n",
        "\n",
        "        return self.get_paths(dict)\n",
        "\n",
        "    def get_paths(self, dict):\n",
        "        cnt = 0\n",
        "\n",
        "        while True:\n",
        "            current_nodes = [x for x in dict if dict[x] == cnt]\n",
        "            if len(current_nodes) == 0:\n",
        "                return -1\n",
        "\n",
        "            for node in current_nodes:\n",
        "                next_moves = self.find_next(node)\n",
        "\n",
        "                for move in next_moves:\n",
        "                    if move not in dict:\n",
        "                        dict[move] = cnt + 1\n",
        "\n",
        "                        if move == (0, 1, 2, 3, 4, 5, 6, 7, 8):\n",
        "                            return cnt + 1\n",
        "\n",
        "            cnt += 1\n",
        "\n",
        "    def find_next(self, node):\n",
        "        moves = {\n",
        "            0: [1, 3],\n",
        "            1: [0, 2, 4],\n",
        "            2: [1, 5],\n",
        "            3: [0, 4, 6],\n",
        "            4: [1, 3, 5, 7],\n",
        "            5: [2, 4, 8],\n",
        "            6: [3, 7],\n",
        "            7: [4, 6, 8],\n",
        "            8: [5, 7],\n",
        "        }\n",
        "\n",
        "        results = []\n",
        "        pos_0 = node.index(0)\n",
        "\n",
        "        for move in moves[pos_0]:\n",
        "            new_node = list(node)\n",
        "            new_node[move], new_node[pos_0] = new_node[pos_0], new_node[move]\n",
        "            results.append(tuple(new_node))\n",
        "\n",
        "        return results\n",
        "\n",
        "ob = Solution()\n",
        "matrix = [\n",
        "    [3, 1, 2],\n",
        "    [4, 7, 5],\n",
        "    [6, 8, 0]\n",
        "]\n",
        "print(ob.solve(matrix))"
      ]
    },
    {
      "cell_type": "code",
      "execution_count": null,
      "metadata": {
        "colab": {
          "base_uri": "https://localhost:8080/"
        },
        "id": "YC4OzjTEuVLO",
        "outputId": "a2784b9f-d413-490c-a2b7-e8f82ef0010d"
      },
      "outputs": [
        {
          "name": "stdout",
          "output_type": "stream",
          "text": [
            "Enter the number of queens\n",
            "8\n",
            "Solution exists. Placements of queens:\n",
            "[1, 0, 0, 0, 0, 0, 0, 0]\n",
            "[0, 0, 0, 0, 1, 0, 0, 0]\n",
            "[0, 0, 0, 0, 0, 0, 0, 1]\n",
            "[0, 0, 0, 0, 0, 1, 0, 0]\n",
            "[0, 0, 1, 0, 0, 0, 0, 0]\n",
            "[0, 0, 0, 0, 0, 0, 1, 0]\n",
            "[0, 1, 0, 0, 0, 0, 0, 0]\n",
            "[0, 0, 0, 1, 0, 0, 0, 0]\n"
          ]
        }
      ],
      "source": [
        "print(\"Enter the number of queens\")\n",
        "N = int(input())\n",
        "\n",
        "# Create a chessboard NxN matrix with all elements set to 0\n",
        "board = [[0] * N for _ in range(N)]\n",
        "\n",
        "def is_safe(i, j):\n",
        "    # Checking vertically and horizontally\n",
        "    for k in range(N):\n",
        "        if board[i][k] == 1 or board[k][j] == 1:\n",
        "            return False\n",
        "\n",
        "    # Checking diagonally\n",
        "    for k in range(N):\n",
        "        for l in range(N):\n",
        "            if (k + l == i + j or k - l == i - j) and board[k][l] == 1:\n",
        "                return False\n",
        "\n",
        "    return True\n",
        "\n",
        "def solve_n_queens(n):\n",
        "    if n == 0:\n",
        "        return True\n",
        "\n",
        "    for i in range(N):\n",
        "        for j in range(N):\n",
        "            if not is_safe(i, j):\n",
        "                continue\n",
        "\n",
        "            if board[i][j] != 1:\n",
        "                board[i][j] = 1\n",
        "                if solve_n_queens(n - 1):\n",
        "                    return True\n",
        "                board[i][j] = 0\n",
        "\n",
        "    return False\n",
        "\n",
        "# Check if a solution exists\n",
        "if solve_n_queens(N):\n",
        "    print(\"Solution exists. Placements of queens:\")\n",
        "    for row in board:\n",
        "        print(row)\n",
        "else:\n",
        "    print(\"No solution exists.\")"
      ]
    },
    {
      "cell_type": "code",
      "execution_count": null,
      "metadata": {
        "colab": {
          "base_uri": "https://localhost:8080/"
        },
        "id": "FBrOx8GdvBOQ",
        "outputId": "f2513ff4-161e-4ebd-d6d5-a4c2cff47786"
      },
      "outputs": [
        {
          "name": "stdout",
          "output_type": "stream",
          "text": [
            "Following is Breadth First Traversal (starting from vertex 2)\n",
            "2 0 3 1 "
          ]
        }
      ],
      "source": [
        "\n",
        "from collections import defaultdict\n",
        "\n",
        "# This class represents a directed graph\n",
        "# using adjacency list representation\n",
        "class Graph:\n",
        "\n",
        "    # Constructor\n",
        "    def __init__(self):\n",
        "        # default dictionary to store graph\n",
        "        self.graph = defaultdict(list)\n",
        "        self.visited = []\n",
        "\n",
        "    # function to add an edge to graph\n",
        "    def addEdge(self, u, v):\n",
        "        self.graph[u].append(v)\n",
        "\n",
        "    # Function to print a BFS of graph\n",
        "    def BFS(self, s):\n",
        "        # Create a queue for BFS\n",
        "        queue = []\n",
        "\n",
        "        # Add the source node in visited and enqueue it\n",
        "        queue.append(s)\n",
        "        self.visited.append(s)\n",
        "\n",
        "        while queue:\n",
        "            # Dequeue a vertex from queue and print it\n",
        "            s = queue.pop(0)\n",
        "            print(s, end=\" \")\n",
        "\n",
        "            # Get all adjacent vertices of the dequeued vertex s.\n",
        "            # If an adjacent has not been visited, then add it\n",
        "            # in visited and enqueue it\n",
        "            for i in self.graph[s]:\n",
        "                if i not in self.visited:\n",
        "                    queue.append(i)\n",
        "                    self.visited.append(i)\n",
        "\n",
        "# Driver code\n",
        "\n",
        "# Create a graph given in the above diagram\n",
        "g = Graph()\n",
        "g.addEdge(0, 1)\n",
        "g.addEdge(0, 2)\n",
        "g.addEdge(1, 2)\n",
        "g.addEdge(2, 0)\n",
        "g.addEdge(2, 3)\n",
        "g.addEdge(3, 3)\n",
        "\n",
        "print(\"Following is Breadth First Traversal (starting from vertex 2)\")\n",
        "g.BFS(2)\n"
      ]
    },
    {
      "cell_type": "code",
      "execution_count": null,
      "metadata": {
        "colab": {
          "base_uri": "https://localhost:8080/"
        },
        "id": "Jxb4w9sAvYMP",
        "outputId": "97f06083-2fda-4307-ca0c-bd65764ac7ba"
      },
      "outputs": [
        {
          "name": "stdout",
          "output_type": "stream",
          "text": [
            "Following is Depth First Traversal (starting from vertex 2)\n",
            "2 0 1 3 "
          ]
        }
      ],
      "source": [
        "from collections import defaultdict\n",
        "\n",
        "# This class represents a directed graph\n",
        "# using adjacency list representation\n",
        "class Graph:\n",
        "\n",
        "    # Constructor\n",
        "    def __init__(self):\n",
        "        # Default dictionary to store graph\n",
        "        self.graph = defaultdict(list)\n",
        "\n",
        "    # Function to add an edge to graph\n",
        "    def addEdge(self, u, v):\n",
        "        self.graph[u].append(v)\n",
        "\n",
        "    # A function used by DFS\n",
        "    def DFSUtil(self, v, visited):\n",
        "        # Mark the current node as visited and print it\n",
        "        visited.add(v)\n",
        "        print(v, end=' ')\n",
        "\n",
        "        # Recur for all the vertices adjacent to this vertex\n",
        "        for neighbour in self.graph[v]:\n",
        "            if neighbour not in visited:\n",
        "                self.DFSUtil(neighbour, visited)\n",
        "\n",
        "    # The function to do DFS traversal. It uses recursive DFSUtil()\n",
        "    def DFS(self, v):\n",
        "        # Create a set to store visited vertices\n",
        "        visited = set()\n",
        "        # Call the recursive helper function to print DFS traversal\n",
        "        self.DFSUtil(v, visited)\n",
        "\n",
        "# Driver's code\n",
        "if __name__ == \"__main__\":\n",
        "    g = Graph()\n",
        "\n",
        "    g.addEdge(0, 1)\n",
        "    g.addEdge(0, 2)\n",
        "    g.addEdge(1, 2)\n",
        "    g.addEdge(2, 0)\n",
        "    g.addEdge(2, 3)\n",
        "    g.addEdge(3, 3)\n",
        "\n",
        "    print(\"Following is Depth First Traversal (starting from vertex 2)\")\n",
        "    # Function call\n",
        "    g.DFS(2)\n"
      ]
    },
    {
      "cell_type": "code",
      "execution_count": null,
      "metadata": {
        "colab": {
          "base_uri": "https://localhost:8080/"
        },
        "id": "lfWVIP5Av9Uf",
        "outputId": "6dbb5909-a95a-4db6-a110-fd78f41409e8"
      },
      "outputs": [
        {
          "name": "stdout",
          "output_type": "stream",
          "text": [
            "Path from initial state to solution state:\n",
            "(0, 0)\n",
            "(0, 3)\n",
            "(4, 0)\n",
            "(4, 3)\n",
            "(3, 0)\n",
            "(1, 3)\n",
            "(3, 3)\n",
            "(4, 2)\n",
            "(0, 2)\n"
          ]
        }
      ],
      "source": [
        "from collections import deque\n",
        "\n",
        "def Solution(a, b, target):\n",
        "    m = {}\n",
        "    isSolvable = False\n",
        "    path = []\n",
        "    q = deque()\n",
        "\n",
        "    # Initializing with jugs being empty\n",
        "    q.append((0, 0))\n",
        "\n",
        "    while len(q) > 0:\n",
        "        # Current state\n",
        "        u = q.popleft()\n",
        "\n",
        "        if (u[0], u[1]) in m:\n",
        "            continue\n",
        "        if u[0] > a or u[1] > b or u[0] < 0 or u[1] < 0:\n",
        "            continue\n",
        "\n",
        "        path.append([u[0], u[1]])\n",
        "        m[(u[0], u[1])] = 1\n",
        "\n",
        "        if u[0] == target or u[1] == target:\n",
        "            isSolvable = True\n",
        "\n",
        "            if u[0] == target and u[1] != 0:\n",
        "                path.append([u[0], 0])\n",
        "            elif u[0] != 0:\n",
        "                path.append([0, u[1]])\n",
        "\n",
        "            for i in path:\n",
        "                print(f\"({i[0]}, {i[1]})\")\n",
        "            break\n",
        "\n",
        "        q.append([u[0], b])  # Fill Jug2\n",
        "        q.append([a, u[1]])  # Fill Jug1\n",
        "\n",
        "        for ap in range(max(a, b) + 1):\n",
        "            c = u[0] + ap\n",
        "            d = u[1] - ap\n",
        "            if c == a or (d == 0 and d >= 0):\n",
        "                q.append([c, d])\n",
        "\n",
        "            c = u[0] - ap\n",
        "            d = u[1] + ap\n",
        "            if (c == 0 and c >= 0) or d == b:\n",
        "                q.append([c, d])\n",
        "\n",
        "        q.append([a, 0])\n",
        "        q.append([0, b])\n",
        "\n",
        "    if not isSolvable:\n",
        "        print(\"Solution not possible\")\n",
        "\n",
        "if __name__ == \"__main__\":\n",
        "    Jug1, Jug2, target = 4, 3, 2\n",
        "    print(\"Path from initial state to solution state:\")\n",
        "    Solution(Jug1, Jug2, target)\n"
      ]
    },
    {
      "cell_type": "code",
      "execution_count": null,
      "metadata": {
        "colab": {
          "base_uri": "https://localhost:8080/"
        },
        "id": "BDt7R3R3wSwi",
        "outputId": "9bbc4699-a260-4682-cfb7-83cfa04a494d"
      },
      "outputs": [
        {
          "name": "stdout",
          "output_type": "stream",
          "text": [
            "[[0 0 0]\n",
            " [0 0 0]\n",
            " [0 0 0]]\n",
            "Board after 1 move\n",
            "[[0 1 0]\n",
            " [0 0 0]\n",
            " [0 0 0]]\n",
            "Board after 2 move\n",
            "[[2 1 0]\n",
            " [0 0 0]\n",
            " [0 0 0]]\n",
            "Board after 3 move\n",
            "[[2 1 0]\n",
            " [1 0 0]\n",
            " [0 0 0]]\n",
            "Board after 4 move\n",
            "[[2 1 0]\n",
            " [1 0 0]\n",
            " [0 2 0]]\n",
            "Board after 5 move\n",
            "[[2 1 1]\n",
            " [1 0 0]\n",
            " [0 2 0]]\n",
            "Board after 6 move\n",
            "[[2 1 1]\n",
            " [1 0 0]\n",
            " [2 2 0]]\n",
            "Board after 7 move\n",
            "[[2 1 1]\n",
            " [1 0 1]\n",
            " [2 2 0]]\n",
            "Board after 8 move\n",
            "[[2 1 1]\n",
            " [1 0 1]\n",
            " [2 2 2]]\n",
            "Winner is: 2\n"
          ]
        }
      ],
      "source": [
        "import numpy as np\n",
        "import random\n",
        "from time import sleep\n",
        "\n",
        "def create_board():\n",
        "    return np.zeros((3, 3), dtype=int)\n",
        "\n",
        "def possibilities(board):\n",
        "    return [(i, j) for i in range(3) for j in range(3) if board[i, j] == 0]\n",
        "\n",
        "def random_place(board, player):\n",
        "    selection = possibilities(board)\n",
        "    if selection:\n",
        "        current_loc = random.choice(selection)\n",
        "        board[current_loc] = player\n",
        "    return board\n",
        "\n",
        "def check_win(board, player):\n",
        "    return (\n",
        "        np.any(np.all(board == player, axis=0)) or  # Check columns\n",
        "        np.any(np.all(board == player, axis=1)) or  # Check rows\n",
        "        np.all(np.diag(board) == player) or  # Check main diagonal\n",
        "        np.all(np.diag(np.fliplr(board)) == player)  # Check secondary diagonal\n",
        "    )\n",
        "\n",
        "def evaluate(board):\n",
        "    for player in [1, 2]:\n",
        "        if check_win(board, player):\n",
        "            return player\n",
        "    return -1 if np.all(board != 0) else 0\n",
        "\n",
        "def play_game():\n",
        "    board, winner, counter = create_board(), 0, 1\n",
        "    print(board)\n",
        "    sleep(2)\n",
        "\n",
        "    while winner == 0:\n",
        "        for player in [1, 2]:\n",
        "            board = random_place(board, player)\n",
        "            print(f\"Board after {counter} move\")\n",
        "            print(board)\n",
        "            sleep(2)\n",
        "            counter += 1\n",
        "            winner = evaluate(board)\n",
        "            if winner != 0:\n",
        "                break\n",
        "\n",
        "    return winner\n",
        "\n",
        "# Driver Code\n",
        "print(\"Winner is:\", play_game())\n"
      ]
    },
    {
      "cell_type": "code",
      "execution_count": null,
      "metadata": {
        "colab": {
          "base_uri": "https://localhost:8080/"
        },
        "id": "mtX8_jEFw74h",
        "outputId": "5dc8cf78-6c5b-40db-c1ae-9197458028d8"
      },
      "outputs": [
        {
          "name": "stdout",
          "output_type": "stream",
          "text": [
            "Path found: ['A', 'F', 'G', 'I', 'J']\n"
          ]
        },
        {
          "data": {
            "text/plain": [
              "['A', 'F', 'G', 'I', 'J']"
            ]
          },
          "execution_count": 14,
          "metadata": {},
          "output_type": "execute_result"
        }
      ],
      "source": [
        "def aStarAlgo(start_node, stop_node):\n",
        "    open_set = {start_node}\n",
        "    closed_set = set()\n",
        "    g = {start_node: 0}\n",
        "    parents = {start_node: start_node}\n",
        "\n",
        "    while open_set:\n",
        "        n = min(open_set, key=lambda x: g[x] + heuristic(x))\n",
        "\n",
        "        if n == stop_node:\n",
        "            path = []\n",
        "            while parents[n] != n:\n",
        "                path.append(n)\n",
        "                n = parents[n]\n",
        "            path.append(start_node)\n",
        "            path.reverse()\n",
        "            print('Path found: {}'.format(path))\n",
        "            return path\n",
        "\n",
        "        open_set.remove(n)\n",
        "        closed_set.add(n)\n",
        "\n",
        "        for (m, weight) in get_neighbors(n):\n",
        "            if m not in open_set and m not in closed_set:\n",
        "                open_set.add(m)\n",
        "                parents[m] = n\n",
        "                g[m] = g[n] + weight\n",
        "            elif m in open_set and g[m] > g[n] + weight:\n",
        "                g[m] = g[n] + weight\n",
        "                parents[m] = n\n",
        "                if m in closed_set:\n",
        "                    closed_set.remove(m)\n",
        "                    open_set.add(m)\n",
        "\n",
        "    print('Path does not exist!')\n",
        "    return None\n",
        "\n",
        "def get_neighbors(v):\n",
        "    if v in Graph_nodes:\n",
        "        return Graph_nodes[v]\n",
        "    else:\n",
        "        return []\n",
        "\n",
        "def heuristic(n):\n",
        "    H_dist = {\n",
        "        'A': 11, 'B': 6, 'C': 5, 'D': 7, 'E': 3,\n",
        "        'F': 6, 'G': 5, 'H': 3, 'I': 1, 'J': 0\n",
        "    }\n",
        "    return H_dist[n]\n",
        "\n",
        "Graph_nodes = {\n",
        "    'A': [('B', 6), ('F', 3)],\n",
        "    'B': [('A', 6), ('C', 3), ('D', 2)],\n",
        "    'C': [('B', 3), ('D', 1), ('E', 5)],\n",
        "    'D': [('B', 2), ('C', 1), ('E', 8)],\n",
        "    'E': [('C', 5), ('D', 8), ('I', 5), ('J', 5)],\n",
        "    'F': [('A', 3), ('G', 1), ('H', 7)],\n",
        "    'G': [('F', 1), ('I', 3)],\n",
        "    'H': [('F', 7), ('I', 2)],\n",
        "    'I': [('E', 5), ('G', 3), ('H', 2), ('J', 3)],\n",
        "}\n",
        "\n",
        "# Running the algorithm\n",
        "aStarAlgo('A', 'J')"
      ]
    },
    {
      "cell_type": "code",
      "execution_count": null,
      "metadata": {
        "colab": {
          "base_uri": "https://localhost:8080/"
        },
        "id": "mloXv7rfxaQT",
        "outputId": "4854f14a-2360-4c64-a77a-de342324e55b"
      },
      "outputs": [
        {
          "name": "stdout",
          "output_type": "stream",
          "text": [
            "Path found: ['A', 'F', 'G', 'I', 'J']\n"
          ]
        },
        {
          "data": {
            "text/plain": [
              "['A', 'F', 'G', 'I', 'J']"
            ]
          },
          "execution_count": 15,
          "metadata": {},
          "output_type": "execute_result"
        }
      ],
      "source": [
        "import heapq\n",
        "\n",
        "def heuristic(n):\n",
        "    H_dist = {\n",
        "        'A': 11, 'B': 6, 'C': 5, 'D': 7, 'E': 3,\n",
        "        'F': 6, 'G': 5, 'H': 3, 'I': 1, 'J': 0\n",
        "    }\n",
        "    return H_dist[n]\n",
        "\n",
        "def get_neighbors(node):\n",
        "    if node in Graph_nodes:\n",
        "        return Graph_nodes[node]\n",
        "    else:\n",
        "        return []\n",
        "\n",
        "def memory_bounded_a_star(start_node, stop_node, memory_limit):\n",
        "    open_set = []\n",
        "    closed_set = set()\n",
        "    g = {start_node: 0}\n",
        "    parents = {start_node: start_node}\n",
        "\n",
        "    # f-cost is g(n) + heuristic(n)\n",
        "    f_cost = {start_node: g[start_node] + heuristic(start_node)}\n",
        "\n",
        "    heapq.heappush(open_set, (f_cost[start_node], start_node))\n",
        "\n",
        "    while open_set:\n",
        "        _, n = heapq.heappop(open_set)\n",
        "\n",
        "        if n == stop_node or n not in Graph_nodes:\n",
        "            break\n",
        "\n",
        "        closed_set.add(n)\n",
        "\n",
        "        for (m, weight) in get_neighbors(n):\n",
        "            if m not in closed_set:\n",
        "                new_g = g[n] + weight\n",
        "\n",
        "                if m not in g or new_g < g[m]:\n",
        "                    g[m] = new_g\n",
        "                    parents[m] = n\n",
        "                    f_cost[m] = g[m] + heuristic(m)\n",
        "\n",
        "                    if f_cost[m] <= memory_limit:\n",
        "                        heapq.heappush(open_set, (f_cost[m], m))\n",
        "\n",
        "    if n == stop_node:\n",
        "        path = []\n",
        "        while parents[n] != n:\n",
        "            path.append(n)\n",
        "            n = parents[n]\n",
        "        path.append(start_node)\n",
        "        path.reverse()\n",
        "        print('Path found: {}'.format(path))\n",
        "        return path\n",
        "    else:\n",
        "        print('Path does not exist within the memory limit.')\n",
        "        return None\n",
        "\n",
        "# Graph definition\n",
        "Graph_nodes = {\n",
        "    'A': [('B', 6), ('F', 3)],\n",
        "    'B': [('A', 6), ('C', 3), ('D', 2)],\n",
        "    'C': [('B', 3), ('D', 1), ('E', 5)],\n",
        "    'D': [('B', 2), ('C', 1), ('E', 8)],\n",
        "    'E': [('C', 5), ('D', 8), ('I', 5), ('J', 5)],\n",
        "    'F': [('A', 3), ('G', 1), ('H', 7)],\n",
        "    'G': [('F', 1), ('I', 3)],\n",
        "    'H': [('F', 7), ('I', 2)],\n",
        "    'I': [('E', 5), ('G', 3), ('H', 2), ('J', 3)],\n",
        "}\n",
        "\n",
        "# Run the algorithm\n",
        "memory_bounded_a_star('A', 'J', memory_limit=20)\n"
      ]
    },
    {
      "cell_type": "code",
      "execution_count": null,
      "metadata": {
        "colab": {
          "base_uri": "https://localhost:8080/"
        },
        "id": "nMUfQKjhx9z-",
        "outputId": "901de92b-90c8-4617-f67f-026cef521e7b"
      },
      "outputs": [
        {
          "name": "stdout",
          "output_type": "stream",
          "text": [
            "The optimal value is: 12\n"
          ]
        }
      ],
      "source": [
        "import math\n",
        "\n",
        "def minimax(curDepth, nodeIndex, maxTurn, scores, targetDepth):\n",
        "    # Base case: targetDepth reached\n",
        "    if curDepth == targetDepth:\n",
        "        return scores[nodeIndex]\n",
        "\n",
        "    if maxTurn:\n",
        "        return max(\n",
        "            minimax(curDepth + 1, nodeIndex * 2, False, scores, targetDepth),\n",
        "            minimax(curDepth + 1, nodeIndex * 2 + 1, False, scores, targetDepth)\n",
        "        )\n",
        "    else:\n",
        "        return min(\n",
        "            minimax(curDepth + 1, nodeIndex * 2, True, scores, targetDepth),\n",
        "            minimax(curDepth + 1, nodeIndex * 2 + 1, True, scores, targetDepth)\n",
        "        )\n",
        "\n",
        "# Driver code\n",
        "scores = [3, 5, 2, 9, 12, 5, 23, 23]\n",
        "treeDepth = int(math.log2(len(scores)))  # Ensure depth is an integer\n",
        "\n",
        "print(\"The optimal value is:\", end=\" \")\n",
        "print(minimax(0, 0, True, scores, treeDepth))\n"
      ]
    },
    {
      "cell_type": "code",
      "execution_count": null,
      "metadata": {
        "colab": {
          "base_uri": "https://localhost:8080/"
        },
        "id": "m0iznX_dy9ee",
        "outputId": "7f3d5831-46e9-4b1b-9fb8-9872e60fb9de"
      },
      "outputs": [
        {
          "name": "stdout",
          "output_type": "stream",
          "text": [
            "The optimal value is: 5\n"
          ]
        }
      ],
      "source": [
        "# Python3 program to demonstrate\n",
        "# working of Alpha-Beta Pruning\n",
        "\n",
        "# Initial values of Alpha and Beta\n",
        "MAX, MIN = 1000, -1000\n",
        "\n",
        "# Returns optimal value for the current player\n",
        "# (Initially called for root and maximizer)\n",
        "def minimax(depth, nodeIndex, maximizingPlayer, values, alpha, beta):\n",
        "    # Terminating condition, i.e., leaf node is reached\n",
        "    if depth == 3:\n",
        "        return values[nodeIndex]\n",
        "\n",
        "    if maximizingPlayer:\n",
        "        best = MIN\n",
        "        # Recur for left and right children\n",
        "        for i in range(0, 2):\n",
        "            val = minimax(depth + 1, nodeIndex * 2 + i, False, values, alpha, beta)\n",
        "            best = max(best, val)\n",
        "            alpha = max(alpha, best)  # Alpha Beta Pruning\n",
        "\n",
        "            if beta <= alpha:\n",
        "                break  # Prune the remaining branches\n",
        "        return best\n",
        "    else:\n",
        "        best = MAX\n",
        "        # Recur for left and right children\n",
        "        for i in range(0, 2):\n",
        "            val = minimax(depth + 1, nodeIndex * 2 + i, True, values, alpha, beta)\n",
        "            best = min(best, val)\n",
        "            beta = min(beta, best)\n",
        "\n",
        "            # Alpha Beta Pruning\n",
        "            if beta <= alpha:\n",
        "                break  # Prune the remaining branches\n",
        "\n",
        "        return best\n",
        "\n",
        "# Driver Code\n",
        "if __name__ == \"__main__\":\n",
        "    values = [3, 5, 6, 9, 1, 2, 0, -1]\n",
        "    print(\"The optimal value is:\", minimax(0, 0, True, values, MIN, MAX))\n"
      ]
    },
    {
      "cell_type": "code",
      "execution_count": null,
      "metadata": {
        "colab": {
          "base_uri": "https://localhost:8080/"
        },
        "id": "WvFn91EuzCn7",
        "outputId": "dd888d57-f5aa-494f-e3b2-4261947b6c2c"
      },
      "outputs": [
        {
          "name": "stdout",
          "output_type": "stream",
          "text": [
            "Collecting python-chess\n",
            "  Downloading python_chess-1.999-py3-none-any.whl.metadata (776 bytes)\n",
            "Collecting chess<2,>=1 (from python-chess)\n",
            "  Downloading chess-1.11.1.tar.gz (156 kB)\n",
            "\u001b[2K     \u001b[90m━━━━━━━━━━━━━━━━━━━━━━━━━━━━━━━━━━━━━━━━\u001b[0m \u001b[32m156.5/156.5 kB\u001b[0m \u001b[31m2.7 MB/s\u001b[0m eta \u001b[36m0:00:00\u001b[0m\n",
            "\u001b[?25h  Preparing metadata (setup.py) ... \u001b[?25l\u001b[?25hdone\n",
            "Downloading python_chess-1.999-py3-none-any.whl (1.4 kB)\n",
            "Building wheels for collected packages: chess\n",
            "  Building wheel for chess (setup.py) ... \u001b[?25l\u001b[?25hdone\n",
            "  Created wheel for chess: filename=chess-1.11.1-py3-none-any.whl size=148497 sha256=ef48f4c27bd7b26bd0db9e68e0fd3a552ca21c762ff3a5eb74f971234b70306b\n",
            "  Stored in directory: /root/.cache/pip/wheels/f0/3f/76/8783033e8524d407e1bebaf72fdd3f3eba27e0c030e92bbd87\n",
            "Successfully built chess\n",
            "Installing collected packages: chess, python-chess\n",
            "Successfully installed chess-1.11.1 python-chess-1.999\n"
          ]
        }
      ],
      "source": [
        "pip install python-chess\n"
      ]
    },
    {
      "cell_type": "code",
      "execution_count": null,
      "metadata": {
        "colab": {
          "background_save": true,
          "base_uri": "https://localhost:8080/"
        },
        "id": "tFjPR5WE1AS-",
        "outputId": "c435c3b6-d9c5-46bb-cfc7-56399919c4c2"
      },
      "outputs": [
        {
          "name": "stdout",
          "output_type": "stream",
          "text": [
            "Invalid move. Try again.\n"
          ]
        }
      ],
      "source": [
        "import chess\n",
        "import chess.svg\n",
        "import os\n",
        "import platform\n",
        "\n",
        "def display_board(board, filename='chessboard.svg'):\n",
        "    svg_content = chess.svg.board(board=board)\n",
        "    with open(filename, 'w') as f:\n",
        "        f.write(svg_content)\n",
        "    return filename\n",
        "\n",
        "def open_svg_file(filename):\n",
        "    system = platform.system()\n",
        "    if system == 'Windows':\n",
        "        os.system(\"start \" + filename)\n",
        "    elif system == 'Linux':\n",
        "        os.system(\"xdg-open \" + filename)\n",
        "    elif system == 'Darwin':\n",
        "        os.system(\"open \" + filename)\n",
        "\n",
        "def player_move():\n",
        "    move_uci = input(\"Enter your move (in UCI format, e.g., 'e2e4'): \")\n",
        "    return chess.Move.from_uci(move_uci)\n",
        "\n",
        "def ai_move(board, depth=2):\n",
        "    best_move = None\n",
        "    best_eval = float('-inf')\n",
        "\n",
        "    for move in board.legal_moves:\n",
        "        board.push(move)\n",
        "        eval = -minimax(board, depth-1, False)\n",
        "        board.pop()\n",
        "\n",
        "        if eval > best_eval:\n",
        "            best_eval = eval\n",
        "            best_move = move\n",
        "\n",
        "    return best_move\n",
        "\n",
        "def minimax(board, depth, maximizing_player):\n",
        "    if depth == 0 or board.is_game_over():\n",
        "        return evaluate_board(board)\n",
        "\n",
        "    if maximizing_player:\n",
        "        max_eval = float('-inf')\n",
        "        for move in board.legal_moves:\n",
        "            board.push(move)\n",
        "            eval = minimax(board, depth-1, False)\n",
        "            board.pop()\n",
        "            max_eval = max(max_eval, eval)\n",
        "        return max_eval\n",
        "    else:\n",
        "        min_eval = float('inf')\n",
        "        for move in board.legal_moves:\n",
        "            board.push(move)\n",
        "            eval = minimax(board, depth-1, True)\n",
        "            board.pop()\n",
        "            min_eval = min(min_eval, eval)\n",
        "        return min_eval\n",
        "\n",
        "def evaluate_board(board):\n",
        "    # Simple evaluation function (counts material)\n",
        "    evaluation = 0\n",
        "    for square in chess.SQUARES:\n",
        "        piece = board.piece_at(square)\n",
        "        if piece is not None:\n",
        "            evaluation += piece_value(piece)\n",
        "    return evaluation\n",
        "\n",
        "def piece_value(piece):\n",
        "    if piece.piece_type == chess.PAWN:\n",
        "        return 1\n",
        "    elif piece.piece_type == chess.KNIGHT:\n",
        "        return 3\n",
        "    elif piece.piece_type == chess.BISHOP:\n",
        "        return 3\n",
        "    elif piece.piece_type == chess.ROOK:\n",
        "        return 5\n",
        "    elif piece.piece_type == chess.QUEEN:\n",
        "        return 9\n",
        "    elif piece.piece_type == chess.KING:\n",
        "        return 1000\n",
        "    return 0\n",
        "\n",
        "def main():\n",
        "    board = chess.Board()\n",
        "\n",
        "    while not board.is_game_over():\n",
        "        svg_file = display_board(board)\n",
        "        open_svg_file(svg_file)\n",
        "\n",
        "        # Player move\n",
        "        move = player_move()\n",
        "        if move in board.legal_moves:\n",
        "            board.push(move)\n",
        "        else:\n",
        "            print(\"Invalid move. Try again.\")\n",
        "            continue\n",
        "\n",
        "        # AI move\n",
        "        if not board.is_game_over():\n",
        "            ai_move_result = ai_move(board)\n",
        "            board.push(ai_move_result)\n",
        "\n",
        "    svg_file = display_board(board)\n",
        "    open_svg_file(svg_file)\n",
        "    print(\"Game over. Result: {}\".format(board.result()))\n",
        "\n",
        "if __name__ == \"__main__\":\n",
        "    main()\n"
      ]
    },
    {
      "cell_type": "code",
      "execution_count": null,
      "metadata": {
        "colab": {
          "base_uri": "https://localhost:8080/"
        },
        "id": "KXo8EKvW9qFc",
        "outputId": "6f1f6404-9b6f-4639-afc0-ce4c3ff119e3"
      },
      "outputs": [
        {
          "name": "stdout",
          "output_type": "stream",
          "text": [
            "{'b': 3, 'c': 2, 'a': 4}\n",
            "{'b': 3, 'c': 2, 'a': 1}\n",
            "{'b': 3, 'c': 1, 'a': 2}\n",
            "{'b': 3, 'c': 1, 'a': 4}\n",
            "{'b': 2, 'c': 1, 'a': 3}\n",
            "{'b': 2, 'c': 1, 'a': 4}\n"
          ]
        }
      ],
      "source": [
        "from constraint import Problem, AllDifferentConstraint\n",
        "\n",
        "def constraint_function(a, b, c):\n",
        "    \"\"\"Example constraint function (modify as needed).\"\"\"\n",
        "    return a + b != c  # Example constraint (modify as per requirement)\n",
        "\n",
        "def main():\n",
        "    \"\"\"Defines and solves a constraint satisfaction problem.\"\"\"\n",
        "    # Create a problem instance\n",
        "    problem = Problem()\n",
        "\n",
        "    # Add variables to the problem\n",
        "    problem.addVariable('a', range(1, 5))\n",
        "    problem.addVariable('b', range(2, 4))\n",
        "    problem.addVariable('c', range(1, 3))\n",
        "\n",
        "    # Add a constraint function to the problem\n",
        "    problem.addConstraint(constraint_function, ['a', 'b', 'c'])\n",
        "\n",
        "    # Optionally, add an \"All Different\" constraint\n",
        "    problem.addConstraint(AllDifferentConstraint(), ['a', 'b', 'c'])\n",
        "\n",
        "    # Solve the problem\n",
        "    solutions = problem.getSolutions()\n",
        "\n",
        "    # Print the solutions\n",
        "    for solution in solutions:\n",
        "        print(solution)\n",
        "\n",
        "if __name__ == \"__main__\":\n",
        "    main()\n"
      ]
    },
    {
      "cell_type": "code",
      "execution_count": null,
      "metadata": {
        "colab": {
          "base_uri": "https://localhost:8080/"
        },
        "id": "6Ow55MEc-RfV",
        "outputId": "0c0ad3e6-e8ec-4df8-d787-2f580bb8d7cf"
      },
      "outputs": [
        {
          "name": "stdout",
          "output_type": "stream",
          "text": [
            "Unification successful. Substitution:\n",
            "a = X\n",
            "b = Y\n"
          ]
        }
      ],
      "source": [
        "class Unifier:\n",
        "    def __init__(self):\n",
        "        self.substitution = {}\n",
        "\n",
        "    def unify(self, term1, term2):\n",
        "        self.substitution = {}\n",
        "        if self.unify_terms(term1, term2):\n",
        "            print(\"Unification successful. Substitution:\")\n",
        "            self.display_substitution()\n",
        "        else:\n",
        "            print(\"Unification failed.\")\n",
        "\n",
        "    def unify_terms(self, term1, term2):\n",
        "        if term1 == term2:\n",
        "            return True\n",
        "        elif self.is_variable(term1):\n",
        "            return self.unify_variable(term1, term2)\n",
        "        elif self.is_variable(term2):\n",
        "            return self.unify_variable(term2, term1)\n",
        "        elif isinstance(term1, list) and isinstance(term2, list):\n",
        "            return self.unify_lists(term1, term2)\n",
        "        elif isinstance(term1, tuple) and isinstance(term2, tuple):\n",
        "            return self.unify_tuples(term1, term2)\n",
        "        else:\n",
        "            return False\n",
        "\n",
        "    def unify_variable(self, variable, term):\n",
        "        if variable in self.substitution:\n",
        "            return self.unify_terms(self.substitution[variable], term)\n",
        "        elif term in self.substitution:\n",
        "            return self.unify_terms(variable, self.substitution[term])\n",
        "        else:\n",
        "            self.substitution[variable] = term\n",
        "            return True\n",
        "\n",
        "    def unify_lists(self, list1, list2):\n",
        "        if len(list1) != len(list2):\n",
        "            return False\n",
        "        for t1, t2 in zip(list1, list2):\n",
        "            if not self.unify_terms(t1, t2):\n",
        "                return False\n",
        "        return True\n",
        "\n",
        "    def unify_tuples(self, tuple1, tuple2):\n",
        "        if len(tuple1) != len(tuple2):\n",
        "            return False\n",
        "        for t1, t2 in zip(tuple1, tuple2):\n",
        "            if not self.unify_terms(t1, t2):\n",
        "                return False\n",
        "        return True\n",
        "\n",
        "    def is_variable(self, term):\n",
        "        return isinstance(term, str) and term.islower()\n",
        "\n",
        "    def display_substitution(self):\n",
        "        for variable, value in self.substitution.items():\n",
        "            print(f\"{variable} = {value}\")\n",
        "\n",
        "# Example usage:\n",
        "if __name__ == \"__main__\":\n",
        "    unifier = Unifier()\n",
        "\n",
        "    term1 = ['f', 'X', 'Y']\n",
        "    term2 = ['f', 'a', 'b']\n",
        "    unifier.unify(term1, term2)\n"
      ]
    },
    {
      "cell_type": "code",
      "execution_count": null,
      "metadata": {
        "colab": {
          "base_uri": "https://localhost:8080/"
        },
        "id": "KjhYJyv8-rTJ",
        "outputId": "cd9a463e-2b8b-479c-bed8-70c5ab950f19"
      },
      "outputs": [
        {
          "name": "stdout",
          "output_type": "stream",
          "text": [
            "Inferred Facts are:\n",
            "[['vertebrate', 'duck'], ['flying', 'duck'], ['mammal', 'cat'], ['animal', 'duck'], ['bird', 'duck'], ['vertebrate', 'cat'], ['animal', 'cat']]\n"
          ]
        }
      ],
      "source": [
        "global facts\n",
        "global is_changed\n",
        "\n",
        "is_changed = True\n",
        "facts = [[\"vertebrate\", \"duck\"], [\"flying\", \"duck\"], [\"mammal\", \"cat\"]]\n",
        "\n",
        "def assert_fact(fact):\n",
        "    global facts\n",
        "    global is_changed\n",
        "\n",
        "    if fact not in facts:\n",
        "        facts.append(fact)\n",
        "        is_changed = True\n",
        "\n",
        "while is_changed:\n",
        "    is_changed = False\n",
        "\n",
        "    for A1 in facts:\n",
        "        if A1[0] == \"mammal\":\n",
        "            assert_fact([\"vertebrate\", A1[1]])\n",
        "\n",
        "        if A1[0] == \"vertebrate\":\n",
        "            assert_fact([\"animal\", A1[1]])\n",
        "\n",
        "        if A1[0] == \"vertebrate\" and [\"flying\", A1[1]] in facts:\n",
        "            assert_fact([\"bird\", A1[1]])\n",
        "\n",
        "print(\"Inferred Facts are:\")\n",
        "print(facts)\n"
      ]
    },
    {
      "cell_type": "code",
      "execution_count": null,
      "metadata": {
        "colab": {
          "base_uri": "https://localhost:8080/"
        },
        "id": "gFX2DesX-55H",
        "outputId": "d73c57ad-cbbd-4b55-b3b0-72861a77089e"
      },
      "outputs": [
        {
          "name": "stdout",
          "output_type": "stream",
          "text": [
            "Enter the goal: bird\n",
            "The goal 'bird' can be satisfied.\n"
          ]
        }
      ],
      "source": [
        "global facts\n",
        "global is_changed\n",
        "\n",
        "is_changed = True\n",
        "facts = [[\"vertebrate\", \"duck\"], [\"flying\", \"duck\"], [\"mammal\", \"cat\"]]\n",
        "\n",
        "def assert_fact(fact):\n",
        "    global facts\n",
        "    global is_changed\n",
        "\n",
        "    if fact not in facts:\n",
        "        facts.append(fact)\n",
        "        is_changed = True\n",
        "\n",
        "def backward_chain(goal):\n",
        "    global facts\n",
        "    global is_changed\n",
        "\n",
        "    while is_changed:\n",
        "        is_changed = False\n",
        "\n",
        "        if goal in [fact[0] for fact in facts]:\n",
        "            return True\n",
        "\n",
        "        for A1 in facts:\n",
        "            if goal == \"vertebrate\" and A1[0] == \"mammal\":\n",
        "                assert_fact([\"vertebrate\", A1[1]])\n",
        "\n",
        "            if goal == \"animal\" and A1[0] == \"vertebrate\":\n",
        "                assert_fact([\"animal\", A1[1]])\n",
        "\n",
        "            if goal == \"bird\" and A1[0] == \"vertebrate\" and [\"flying\", A1[1]] in facts:\n",
        "                assert_fact([\"bird\", A1[1]])\n",
        "\n",
        "    return False\n",
        "\n",
        "# Prompt the user for input\n",
        "goal = input(\"Enter the goal: \")\n",
        "\n",
        "try:\n",
        "    result = backward_chain(goal)\n",
        "    if result:\n",
        "        print(f\"The goal '{goal}' can be satisfied.\")\n",
        "    else:\n",
        "        print(f\"The goal '{goal}' cannot be satisfied.\")\n",
        "except Exception as e:\n",
        "    print(\"Backward chaining failed:\", e)\n",
        "    print(\"Supported facts for the goal are:\")\n",
        "    print(facts)\n"
      ]
    },
    {
      "cell_type": "code",
      "execution_count": null,
      "metadata": {
        "colab": {
          "base_uri": "https://localhost:8080/"
        },
        "id": "V3WupytD_a0C",
        "outputId": "4214166c-3d4f-4d83-9b13-c33fa596f7af"
      },
      "outputs": [
        {
          "name": "stdout",
          "output_type": "stream",
          "text": [
            "Requirement already satisfied: opencv-python in /usr/local/lib/python3.11/dist-packages (4.11.0.86)\n",
            "Requirement already satisfied: opencv-contrib-python in /usr/local/lib/python3.11/dist-packages (4.11.0.86)\n",
            "Requirement already satisfied: numpy>=1.21.2 in /usr/local/lib/python3.11/dist-packages (from opencv-python) (1.26.4)\n"
          ]
        }
      ],
      "source": [
        "pip install opencv-python opencv-contrib-python"
      ]
    },
    {
      "cell_type": "code",
      "execution_count": null,
      "metadata": {
        "id": "slvJ1-1EDm_X"
      },
      "outputs": [],
      "source": []
    },
    {
      "cell_type": "code",
      "execution_count": null,
      "metadata": {
        "colab": {
          "base_uri": "https://localhost:8080/"
        },
        "id": "TvILfaa_9L4W",
        "outputId": "74d31983-6f5b-4531-f717-a1ae91554697"
      },
      "outputs": [
        {
          "name": "stdout",
          "output_type": "stream",
          "text": [
            "Collecting python-constraint\n",
            "  Downloading python-constraint-1.4.0.tar.bz2 (18 kB)\n",
            "  Preparing metadata (setup.py) ... \u001b[?25l\u001b[?25hdone\n",
            "Building wheels for collected packages: python-constraint\n",
            "  Building wheel for python-constraint (setup.py) ... \u001b[?25l\u001b[?25hdone\n",
            "  Created wheel for python-constraint: filename=python_constraint-1.4.0-py2.py3-none-any.whl size=24059 sha256=e9d14901a5755db2c0ff98325464044d51f8c7bc6770956ab5843dd7ddd93a9d\n",
            "  Stored in directory: /root/.cache/pip/wheels/1e/af/a9/990ae7e6a78319b7d7afaab2d14e7e5ae349d5613db5ae28fd\n",
            "Successfully built python-constraint\n",
            "Installing collected packages: python-constraint\n",
            "Successfully installed python-constraint-1.4.0\n"
          ]
        }
      ],
      "source": [
        "pip install python-constraint"
      ]
    }
  ],
  "metadata": {
    "colab": {
      "provenance": []
    },
    "kernelspec": {
      "display_name": "Python 3",
      "name": "python3"
    },
    "language_info": {
      "name": "python"
    }
  },
  "nbformat": 4,
  "nbformat_minor": 0
}